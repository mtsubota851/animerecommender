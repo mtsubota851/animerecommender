{
 "cells": [
  {
   "cell_type": "markdown",
   "metadata": {},
   "source": [
    "# Import Libraries"
   ]
  },
  {
   "cell_type": "code",
   "execution_count": 1,
   "metadata": {},
   "outputs": [],
   "source": [
    "import matplotlib.pyplot as plt\n",
    "import seaborn as sns\n",
    "import numpy as np # linear algebra\n",
    "import pandas as pd # data processing, CSV file I/O (e.g. pd.read_csv)\n",
    "\n",
    "import os\n",
    "import warnings\n",
    "\n",
    "from sklearn.feature_extraction.text import TfidfVectorizer, CountVectorizer\n",
    "from sklearn.metrics.pairwise import cosine_similarity\n",
    "\n",
    "warnings.filterwarnings(\"always\")\n",
    "warnings.filterwarnings(\"ignore\")"
   ]
  },
  {
   "cell_type": "markdown",
   "metadata": {},
   "source": [
    "# Importing Data"
   ]
  },
  {
   "cell_type": "code",
   "execution_count": 2,
   "metadata": {},
   "outputs": [],
   "source": [
    "df = pd.read_csv(r'C:\\Users\\tsubo\\OneDrive\\Documents\\anime.csv')"
   ]
  },
  {
   "cell_type": "code",
   "execution_count": 3,
   "metadata": {},
   "outputs": [
    {
     "data": {
      "text/html": [
       "<div>\n",
       "<style scoped>\n",
       "    .dataframe tbody tr th:only-of-type {\n",
       "        vertical-align: middle;\n",
       "    }\n",
       "\n",
       "    .dataframe tbody tr th {\n",
       "        vertical-align: top;\n",
       "    }\n",
       "\n",
       "    .dataframe thead th {\n",
       "        text-align: right;\n",
       "    }\n",
       "</style>\n",
       "<table border=\"1\" class=\"dataframe\">\n",
       "  <thead>\n",
       "    <tr style=\"text-align: right;\">\n",
       "      <th></th>\n",
       "      <th>anime_id</th>\n",
       "      <th>name</th>\n",
       "      <th>genre</th>\n",
       "      <th>type</th>\n",
       "      <th>episodes</th>\n",
       "      <th>rating</th>\n",
       "      <th>members</th>\n",
       "    </tr>\n",
       "  </thead>\n",
       "  <tbody>\n",
       "    <tr>\n",
       "      <th>0</th>\n",
       "      <td>32281</td>\n",
       "      <td>Kimi no Na wa.</td>\n",
       "      <td>Drama, Romance, School, Supernatural</td>\n",
       "      <td>Movie</td>\n",
       "      <td>1</td>\n",
       "      <td>9.37</td>\n",
       "      <td>200630</td>\n",
       "    </tr>\n",
       "    <tr>\n",
       "      <th>1</th>\n",
       "      <td>5114</td>\n",
       "      <td>Fullmetal Alchemist: Brotherhood</td>\n",
       "      <td>Action, Adventure, Drama, Fantasy, Magic, Mili...</td>\n",
       "      <td>TV</td>\n",
       "      <td>64</td>\n",
       "      <td>9.26</td>\n",
       "      <td>793665</td>\n",
       "    </tr>\n",
       "    <tr>\n",
       "      <th>2</th>\n",
       "      <td>28977</td>\n",
       "      <td>Gintama°</td>\n",
       "      <td>Action, Comedy, Historical, Parody, Samurai, S...</td>\n",
       "      <td>TV</td>\n",
       "      <td>51</td>\n",
       "      <td>9.25</td>\n",
       "      <td>114262</td>\n",
       "    </tr>\n",
       "  </tbody>\n",
       "</table>\n",
       "</div>"
      ],
      "text/plain": [
       "   anime_id                              name  \\\n",
       "0     32281                    Kimi no Na wa.   \n",
       "1      5114  Fullmetal Alchemist: Brotherhood   \n",
       "2     28977                          Gintama°   \n",
       "\n",
       "                                               genre   type episodes  rating  \\\n",
       "0               Drama, Romance, School, Supernatural  Movie        1    9.37   \n",
       "1  Action, Adventure, Drama, Fantasy, Magic, Mili...     TV       64    9.26   \n",
       "2  Action, Comedy, Historical, Parody, Samurai, S...     TV       51    9.25   \n",
       "\n",
       "   members  \n",
       "0   200630  \n",
       "1   793665  \n",
       "2   114262  "
      ]
     },
     "execution_count": 3,
     "metadata": {},
     "output_type": "execute_result"
    }
   ],
   "source": [
    "df.head(3)"
   ]
  },
  {
   "cell_type": "code",
   "execution_count": 4,
   "metadata": {},
   "outputs": [
    {
     "name": "stdout",
     "output_type": "stream",
     "text": [
      "<class 'pandas.core.frame.DataFrame'>\n",
      "Int64Index: 12017 entries, 0 to 12293\n",
      "Data columns (total 7 columns):\n",
      "anime_id    12017 non-null int64\n",
      "name        12017 non-null object\n",
      "genre       12017 non-null object\n",
      "type        12017 non-null object\n",
      "episodes    12017 non-null object\n",
      "rating      12017 non-null float64\n",
      "members     12017 non-null int64\n",
      "dtypes: float64(1), int64(2), object(4)\n",
      "memory usage: 751.1+ KB\n"
     ]
    }
   ],
   "source": [
    "df.dropna(inplace=True)\n",
    "df.info()"
   ]
  },
  {
   "cell_type": "markdown",
   "metadata": {},
   "source": [
    "I dropped the null values from the data set. Now I want to check how many genres there are.\n",
    "Most shows are considered in multiple genres, so different genres are combined and they created different genres from the computer perspective.\n",
    "I need to ignore the combinations of multiple genres."
   ]
  },
  {
   "cell_type": "code",
   "execution_count": 5,
   "metadata": {},
   "outputs": [
    {
     "name": "stdout",
     "output_type": "stream",
     "text": [
      "There are 43 unique genres here is the complete list: \n",
      " ['Historical', 'Shounen', 'Music', 'MartialArts', 'Cars', 'Seinen', 'Mecha', 'ShoujoAi', 'Comedy', 'Demons', 'Fantasy', 'SuperPower', 'SliceofLife', 'Supernatural', 'Parody', 'Military', 'Space', 'Drama', 'Action', 'School', 'Game', 'ShounenAi', 'Dementia', 'Sci-Fi', 'Yaoi', 'Thriller', 'Police', 'Adventure', 'Vampire', 'Psychological', 'Ecchi', 'Mystery', 'Kids', 'Sports', 'Josei', 'Samurai', 'Shoujo', 'Magic', 'Horror', 'Harem', 'Yuri', 'Romance', 'Hentai']\n"
     ]
    }
   ],
   "source": [
    "genrestring = ''\n",
    "for i in df.genre:\n",
    "    genrestring = genrestring + i.strip() + ','\n",
    "    \n",
    "genres=list(set(genrestring.replace(r' ','').split(',')))[1:] \n",
    "\n",
    "print(f'There are {len(genres)} unique genres here is the complete list: \\n {genres}')"
   ]
  },
  {
   "cell_type": "markdown",
   "metadata": {},
   "source": [
    "So I gathered the lines in a string and removed the spaces between the words, then created a list separating the string using ',' as separator. Later I converted the list into a set to get rid of the duplicates and again converted it back to a list.It seems to be 43 different genres."
   ]
  },
  {
   "cell_type": "code",
   "execution_count": 6,
   "metadata": {},
   "outputs": [
    {
     "data": {
      "text/html": [
       "<div>\n",
       "<style scoped>\n",
       "    .dataframe tbody tr th:only-of-type {\n",
       "        vertical-align: middle;\n",
       "    }\n",
       "\n",
       "    .dataframe tbody tr th {\n",
       "        vertical-align: top;\n",
       "    }\n",
       "\n",
       "    .dataframe thead th {\n",
       "        text-align: right;\n",
       "    }\n",
       "</style>\n",
       "<table border=\"1\" class=\"dataframe\">\n",
       "  <thead>\n",
       "    <tr style=\"text-align: right;\">\n",
       "      <th></th>\n",
       "      <th>Number</th>\n",
       "      <th>Average_Rating</th>\n",
       "      <th>Total_members</th>\n",
       "    </tr>\n",
       "  </thead>\n",
       "  <tbody>\n",
       "    <tr>\n",
       "      <th>Historical</th>\n",
       "      <td>798</td>\n",
       "      <td>6.746216</td>\n",
       "      <td>11372418</td>\n",
       "    </tr>\n",
       "    <tr>\n",
       "      <th>Shounen</th>\n",
       "      <td>1745</td>\n",
       "      <td>7.054642</td>\n",
       "      <td>55099478</td>\n",
       "    </tr>\n",
       "    <tr>\n",
       "      <th>Music</th>\n",
       "      <td>842</td>\n",
       "      <td>5.923017</td>\n",
       "      <td>6004126</td>\n",
       "    </tr>\n",
       "  </tbody>\n",
       "</table>\n",
       "</div>"
      ],
      "text/plain": [
       "            Number  Average_Rating  Total_members\n",
       "Historical     798        6.746216       11372418\n",
       "Shounen       1745        7.054642       55099478\n",
       "Music          842        5.923017        6004126"
      ]
     },
     "execution_count": 6,
     "metadata": {},
     "output_type": "execute_result"
    }
   ],
   "source": [
    "Number = []\n",
    "Avgrating = []\n",
    "Totalmembers = []\n",
    "\n",
    "for t in genres:\n",
    "    Number.append(df.loc[df.genre.str.contains(t)==True]['name'].count())\n",
    "    Avgrating.append(df.loc[df.genre.str.contains(t)==True]['rating'].mean())\n",
    "    Totalmembers.append(df.loc[df.genre.str.contains(t)==True]['members'].sum())\n",
    "\n",
    "Comparison_genre = pd.DataFrame({'Number': Number,'Average_Rating':Avgrating,'Total_members':Totalmembers},index=genres)\n",
    "Comparison_genre.dropna(inplace=True)\n",
    "Comparison_genre.sort_values('Number',ascending=False)\n",
    "Comparison_genre.head(3)\n"
   ]
  },
  {
   "cell_type": "markdown",
   "metadata": {},
   "source": [
    "I calculated the number of shows, average rating and total members for each genre, and created a data frame."
   ]
  },
  {
   "cell_type": "code",
   "execution_count": 7,
   "metadata": {},
   "outputs": [],
   "source": [
    "Comparison_genre = Comparison_genre.loc[(Comparison_genre.Number > Comparison_genre.Number.quantile(0.4))&(Comparison_genre.Total_members > Comparison_genre.Total_members.quantile(0.4))]"
   ]
  },
  {
   "cell_type": "markdown",
   "metadata": {},
   "source": [
    "I weed out the genres that are lower than 0.4 quantile of total numbers and total members."
   ]
  },
  {
   "cell_type": "code",
   "execution_count": 8,
   "metadata": {},
   "outputs": [],
   "source": [
    "x1 = Comparison_genre.Number\n",
    "x2 = Comparison_genre.Average_Rating\n",
    "x3 = Comparison_genre.Total_members\n",
    "y = Comparison_genre.index"
   ]
  },
  {
   "cell_type": "markdown",
   "metadata": {},
   "source": [
    "I create my axes for plotting..."
   ]
  },
  {
   "cell_type": "code",
   "execution_count": 9,
   "metadata": {},
   "outputs": [
    {
     "data": {
      "text/plain": [
       "[<matplotlib.lines.Line2D at 0x1fedf861860>]"
      ]
     },
     "execution_count": 9,
     "metadata": {},
     "output_type": "execute_result"
    },
    {
     "data": {
      "image/png": "[encoded data removed]",
      "text/plain": [
       "<Figure size 1728x576 with 2 Axes>"
      ]
     },
     "metadata": {
      "needs_background": "light"
     },
     "output_type": "display_data"
    }
   ],
   "source": [
    "fig,[ax1,ax2] = plt.subplots(1,2,figsize=(24,8))\n",
    "plt.suptitle('Difference in Genres',size=20)\n",
    "ax1.set_xticklabels(y, rotation=45)\n",
    "ax1.set_title('Number of Shows Per Genre',size = 14)\n",
    "ax1.bar(y,x1)\n",
    "ax2.set_title('Average Rating Per Genre',size = 14)\n",
    "ax2.set_xticklabels(y, rotation=45)\n",
    "ax2.plot(y,x2,color='r',marker='o')"
   ]
  },
  {
   "cell_type": "code",
   "execution_count": 10,
   "metadata": {},
   "outputs": [
    {
     "data": {
      "image/png": "[encoded data removed]",
      "text/plain": [
       "<Figure size 432x288 with 2 Axes>"
      ]
     },
     "metadata": {
      "needs_background": "light"
     },
     "output_type": "display_data"
    }
   ],
   "source": [
    "corr=Comparison_genre.corr()\n",
    "heatmap = sns.heatmap(corr, annot=True, cmap=\"Blues\", fmt='.1g')"
   ]
  },
  {
   "cell_type": "markdown",
   "metadata": {},
   "source": [
    "I plotted two charts to visualize my findings. The rating scores are inclined to drop when the number of shows increase in a genre. Our correlation matrix confirms this. The most successful genre is mystery when checked the number of shows in mystery genre, we see it is 485, one of the least ones in the list.\n",
    "\n",
    "On the other hand, Comedy genre, being the most produced genres, is the least rated of all. Drama does a good joob maintaining a decent number of shows with relatively high rating score."
   ]
  },
  {
   "cell_type": "code",
   "execution_count": 11,
   "metadata": {},
   "outputs": [
    {
     "name": "stdout",
     "output_type": "stream",
     "text": [
      "There are 6 unique types, here is the whole list:\n",
      " ['Movie' 'TV' 'OVA' 'Special' 'Music' 'ONA']\n"
     ]
    }
   ],
   "source": [
    "print(f'There are {len(list(df.type.unique()))} unique types, here is the whole list:\\n {df.type.unique()}')"
   ]
  },
  {
   "cell_type": "code",
   "execution_count": 12,
   "metadata": {
    "scrolled": true
   },
   "outputs": [
    {
     "data": {
      "text/html": [
       "<div>\n",
       "<style scoped>\n",
       "    .dataframe tbody tr th:only-of-type {\n",
       "        vertical-align: middle;\n",
       "    }\n",
       "\n",
       "    .dataframe tbody tr th {\n",
       "        vertical-align: top;\n",
       "    }\n",
       "\n",
       "    .dataframe thead th {\n",
       "        text-align: right;\n",
       "    }\n",
       "</style>\n",
       "<table border=\"1\" class=\"dataframe\">\n",
       "  <thead>\n",
       "    <tr style=\"text-align: right;\">\n",
       "      <th></th>\n",
       "      <th>Number</th>\n",
       "      <th>Average_Rating</th>\n",
       "      <th>Total_members</th>\n",
       "    </tr>\n",
       "  </thead>\n",
       "  <tbody>\n",
       "    <tr>\n",
       "      <th>Movie</th>\n",
       "      <td>2259</td>\n",
       "      <td>6.334055</td>\n",
       "      <td>23865229</td>\n",
       "    </tr>\n",
       "    <tr>\n",
       "      <th>TV</th>\n",
       "      <td>3668</td>\n",
       "      <td>6.903321</td>\n",
       "      <td>160685404</td>\n",
       "    </tr>\n",
       "    <tr>\n",
       "      <th>OVA</th>\n",
       "      <td>3284</td>\n",
       "      <td>6.375411</td>\n",
       "      <td>19755618</td>\n",
       "    </tr>\n",
       "    <tr>\n",
       "      <th>Special</th>\n",
       "      <td>1670</td>\n",
       "      <td>6.523126</td>\n",
       "      <td>12846511</td>\n",
       "    </tr>\n",
       "    <tr>\n",
       "      <th>Music</th>\n",
       "      <td>488</td>\n",
       "      <td>5.588996</td>\n",
       "      <td>640178</td>\n",
       "    </tr>\n",
       "    <tr>\n",
       "      <th>ONA</th>\n",
       "      <td>648</td>\n",
       "      <td>5.650293</td>\n",
       "      <td>2705539</td>\n",
       "    </tr>\n",
       "  </tbody>\n",
       "</table>\n",
       "</div>"
      ],
      "text/plain": [
       "         Number  Average_Rating  Total_members\n",
       "Movie      2259        6.334055       23865229\n",
       "TV         3668        6.903321      160685404\n",
       "OVA        3284        6.375411       19755618\n",
       "Special    1670        6.523126       12846511\n",
       "Music       488        5.588996         640178\n",
       "ONA         648        5.650293        2705539"
      ]
     },
     "execution_count": 12,
     "metadata": {},
     "output_type": "execute_result"
    }
   ],
   "source": [
    "typelist = list(df.type.unique())\n",
    "Numbert = []\n",
    "Avgratingt = []\n",
    "Totalmemberst = []\n",
    "\n",
    "for t in typelist:\n",
    "    Numbert.append(df.loc[df.type.str.contains(t)==True]['name'].count())\n",
    "    Avgratingt.append(df.loc[df.type.str.contains(t)==True]['rating'].mean())\n",
    "    Totalmemberst.append(df.loc[df.type.str.contains(t)==True]['members'].sum())\n",
    "\n",
    "Comparison_type = pd.DataFrame({'Number': Numbert,'Average_Rating':Avgratingt,'Total_members':Totalmemberst},index=typelist)\n",
    "Comparison_type.dropna(inplace=True)\n",
    "Comparison_type.sort_values('Number',ascending=False)\n",
    "Comparison_type"
   ]
  },
  {
   "cell_type": "code",
   "execution_count": 13,
   "metadata": {},
   "outputs": [],
   "source": [
    "path = r'C:\\Users\\tsubo\\Data Analytics\\Anime Recommendations\\Data'"
   ]
  },
  {
   "cell_type": "code",
   "execution_count": 16,
   "metadata": {},
   "outputs": [],
   "source": [
    "Comparison_genre.to_csv(os.path.join(path, 'comparison_genre.csv'))"
   ]
  },
  {
   "cell_type": "code",
   "execution_count": null,
   "metadata": {},
   "outputs": [],
   "source": []
  }
 ],
 "metadata": {
  "kernelspec": {
   "display_name": "Python 3",
   "language": "python",
   "name": "python3"
  },
  "language_info": {
   "codemirror_mode": {
    "name": "ipython",
    "version": 3
   },
   "file_extension": ".py",
   "mimetype": "text/x-python",
   "name": "python",
   "nbconvert_exporter": "python",
   "pygments_lexer": "ipython3",
   "version": "3.7.3"
  }
 },
 "nbformat": 4,
 "nbformat_minor": 2
}
